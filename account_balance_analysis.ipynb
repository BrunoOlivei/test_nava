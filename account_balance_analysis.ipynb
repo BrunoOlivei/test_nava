{
 "cells": [
  {
   "cell_type": "markdown",
   "id": "7fc187ba",
   "metadata": {},
   "source": [
    "# Teste NAVA\n",
    "\n",
    "Simular os resultados em dataframes e apresentar o resultado\n",
    "\n",
    "**Objetivo**: Apresentar o saldo atualizado da conta corrente de todos os clientes\n",
    "separados por data em que seja possível reprocessar/identificar as alterações de\n",
    "saldos entre os dias.\n",
    "\n",
    "\n",
    "**Requisitos**\n",
    "\n",
    "Pyspark\n",
    "\n",
    "**Execução**\n",
    "\n",
    "O código foi desenvolvido em Python 3.11.9 e utiliza o Pyspark para processamento dos dados, em ambiente local utilizando Windows Subsystem for Linux (WSL), com o Spark instalado.\n",
    "\n",
    "\n",
    "**Contato**\n",
    "\n",
    "Bruno Gonçalves Oliveira\n",
    "\n",
    "bruoli3@gmail.com"
   ]
  },
  {
   "cell_type": "markdown",
   "id": "d656af80",
   "metadata": {},
   "source": [
    "## Importando bibliotecas necessárias"
   ]
  },
  {
   "cell_type": "code",
   "execution_count": 10,
   "id": "initial_id",
   "metadata": {
    "ExecuteTime": {
     "end_time": "2024-10-16T22:45:23.047733Z",
     "start_time": "2024-10-16T22:45:22.843654Z"
    },
    "collapsed": true
   },
   "outputs": [
    {
     "name": "stderr",
     "output_type": "stream",
     "text": [
      "24/10/17 01:43:48 WARN Utils: Service 'SparkUI' could not bind on port 4040. Attempting port 4041.\n"
     ]
    }
   ],
   "source": [
    "from pyspark.sql import SparkSession\n",
    "from pyspark.sql.functions import col, sum, when, lag, lit, first, max\n",
    "from pyspark.sql.window import Window\n",
    "\n",
    "spark = SparkSession.builder.appName(\"teste_nava\").getOrCreate()"
   ]
  },
  {
   "cell_type": "markdown",
   "id": "1e7f617d",
   "metadata": {},
   "source": [
    "## Leitura dos arquivos\n",
    "\n",
    "Leitura dos arquivos de entrada e criação dos dataframes iniciais.\n",
    "\n",
    "União das movimentações dos dias 02 e 03/04/2022 para facilitar a análise."
   ]
  },
  {
   "cell_type": "code",
   "execution_count": 11,
   "id": "17c5d0ca",
   "metadata": {},
   "outputs": [],
   "source": [
    "initial_balance = spark.read.csv(\"data/tabela_saldo_inicial.txt\", header=True, sep=\";\")\n",
    "mov_02_04 = spark.read.csv(\"data/movimentacao_dia_02_04_2022.txt\", header=True, sep=\";\")\n",
    "mov_03_04 = spark.read.csv(\"data/movimentacao_dia_03_04_2022.txt\", header=True, sep=\";\")\n",
    "movimentations = mov_02_04.union(mov_03_04)"
   ]
  },
  {
   "cell_type": "markdown",
   "id": "cbbd2007",
   "metadata": {},
   "source": [
    "## Movimentações\n",
    "\n",
    "Cria coluna Saldo Inicial com valor 0, para posteriormente calcular o saldo inicial, e colunas Credito e Debito se valor maior que 0 na coluna Movimentacao_dia e menor que 0, respectivamente.\n",
    "\n",
    "Os valores da coluna Movimentacao_dia são substituidos com a soma de Credito e Debito. Por fim, cria-se a coluna Saldo_Final com valor 0. Renomeia a coluna data para Data e seleciona as colunas desejadas."
   ]
  },
  {
   "cell_type": "code",
   "execution_count": 12,
   "id": "147a396e",
   "metadata": {},
   "outputs": [],
   "source": [
    "movimentations = movimentations.withColumn(\n",
    "    \"Saldo_Inicial\",\n",
    "    lit(0).cast(\"float\")\n",
    ").withColumn(\n",
    "    \"Credito\",\n",
    "    when(\n",
    "        col(\"Movimentacao_dia\") > 0,\n",
    "        col(\"Movimentacao_dia\").cast(\"float\")\n",
    "    ).otherwise(0)\n",
    ").withColumn(\n",
    "    \"Debito\",\n",
    "    when(\n",
    "        col(\"Movimentacao_dia\") < 0,\n",
    "        col(\"Movimentacao_dia\").cast(\"float\")\n",
    "    ).otherwise(0)\n",
    ").withColumn(\n",
    "    \"Movimentacao_dia\",\n",
    "    (col(\"Credito\") + col(\"Debito\")).cast(\"float\")\n",
    ").withColumn(\n",
    "    \"Saldo_Final\",\n",
    "    lit(0).cast(\"float\")\n",
    ").withColumnRenamed(\n",
    "    \"data\",\n",
    "    \"Data\"\n",
    ").select(\n",
    "    \"Nome\",\n",
    "    \"CPF\",\n",
    "    \"Data\",\n",
    "    \"Saldo_Inicial\",\n",
    "    \"Credito\",\n",
    "    \"Debito\",\n",
    "    \"Movimentacao_dia\",\n",
    "    \"Saldo_Final\"\n",
    ")"
   ]
  },
  {
   "cell_type": "markdown",
   "id": "f7bc8b07",
   "metadata": {},
   "source": [
    "## Saldo Inicial\n",
    "\n",
    "Renomeia a coluna Saldo_Inicial_CC para Saldo_Inicial, renomeia a coluna data para Data, cria colunas Credito e Debito com valor 0, cria coluna Movimentacao_dia com a soma de Credito e Debito, cria coluna Saldo_final com valor de Saldo_Inicial. Seleciona as colunas desejadas."
   ]
  },
  {
   "cell_type": "code",
   "execution_count": 13,
   "id": "a2b5cb03",
   "metadata": {},
   "outputs": [],
   "source": [
    "initial_balance = initial_balance.withColumnRenamed(\n",
    "    \"Saldo_Inicial_CC\",\n",
    "    \"Saldo_Inicial\"\n",
    ").withColumnRenamed(\n",
    "    \"data\",\n",
    "    \"Data\"\n",
    ").withColumn(\n",
    "    \"Credito\",\n",
    "    lit(0).cast(\"float\")\n",
    ").withColumn(\n",
    "    \"Debito\",\n",
    "    lit(0).cast(\"float\")\n",
    ").withColumn(\n",
    "    \"Movimentacao_dia\",\n",
    "    (col(\"Credito\") + col(\"Debito\")).cast(\"float\")\n",
    ").withColumn(\n",
    "    \"Saldo_final\",\n",
    "    col(\"Saldo_Inicial\").cast(\"float\")\n",
    ").select(\n",
    "    \"Nome\",\n",
    "    \"CPF\",\n",
    "    \"Data\",\n",
    "    \"Saldo_Inicial\",\n",
    "    \"Credito\",\n",
    "    \"Debito\",\n",
    "    \"Movimentacao_dia\",\n",
    "    \"Saldo_final\"\n",
    ")"
   ]
  },
  {
   "cell_type": "markdown",
   "id": "2f272e57",
   "metadata": {},
   "source": [
    "## União de todas as movimentações\n",
    "\n",
    "Concatena os dataframes movimentacoes e saldo_inicial"
   ]
  },
  {
   "cell_type": "code",
   "execution_count": 14,
   "id": "6654395e",
   "metadata": {},
   "outputs": [],
   "source": [
    "all_operations = initial_balance.union(movimentations)"
   ]
  },
  {
   "cell_type": "markdown",
   "id": "7556ef34",
   "metadata": {},
   "source": [
    "## Calculo do Saldo Final\n",
    "\n",
    "Cria uma janela de partionamento por CPF ordenada pela data da movimentação, calcula a soma da movimentação do dia (Crédito - Débito) e o saldo inicial para resultar no saldo final."
   ]
  },
  {
   "cell_type": "code",
   "execution_count": 15,
   "id": "6e0983e7",
   "metadata": {},
   "outputs": [],
   "source": [
    "window_spec = Window.partitionBy(\"CPF\").orderBy(\"Data\").rowsBetween(Window.unboundedPreceding, Window.currentRow)\n",
    "\n",
    "all_operations = all_operations.withColumn(\n",
    "    \"Saldo_Final\",\n",
    "    sum(col(\"Saldo_Inicial\") + col(\"Movimentacao_dia\")).over(window_spec)\n",
    ")"
   ]
  },
  {
   "cell_type": "markdown",
   "id": "51d72ba3",
   "metadata": {},
   "source": [
    "## Preenche os valores de saldo inicial\n",
    "\n",
    "Preenche os valores de saldo inicial das linhas de movimentação que naturalmente não possuiam valor de saldo inicial, se baseando no saldo final da linha anterior `lag(\"Saldo_Final\", 1).over(window)`. E preenche o saldo inicial da primeira linha de cada CPF com o saldo inicial da conta corrente `when(col(\"Saldo_Inicial\").isNull(), col(\"Saldo_Final\")).otherwise(col(\"Saldo_Inicial\"))`"
   ]
  },
  {
   "cell_type": "code",
   "execution_count": 16,
   "id": "f2c8c160",
   "metadata": {},
   "outputs": [],
   "source": [
    "window_spec = Window.partitionBy(\"CPF\").orderBy(\"Data\")\n",
    "\n",
    "final_balance = all_operations.withColumn(\n",
    "    \"Saldo_Inicial\",\n",
    "    lag(\"Saldo_Final\", 1).over(window_spec)\n",
    ")\n",
    "\n",
    "final_balance = final_balance.withColumn(\n",
    "    \"Saldo_Inicial\",\n",
    "    when(\n",
    "        col(\"Saldo_Inicial\").isNull(),\n",
    "        col(\"Saldo_Final\")\n",
    "    ).otherwise(\n",
    "        col(\"Saldo_Inicial\")\n",
    "    )\n",
    ")"
   ]
  },
  {
   "cell_type": "markdown",
   "id": "e2001cf9",
   "metadata": {},
   "source": [
    "## Resultado"
   ]
  },
  {
   "cell_type": "code",
   "execution_count": 17,
   "id": "e7bbd54c",
   "metadata": {},
   "outputs": [
    {
     "name": "stdout",
     "output_type": "stream",
     "text": [
      "+-----+-----------+----------+-------------------+-------+-------+----------------+-------------------+\n",
      "| Nome|        CPF|      Data|      Saldo_Inicial|Credito| Debito|Movimentacao_dia|        Saldo_Final|\n",
      "+-----+-----------+----------+-------------------+-------+-------+----------------+-------------------+\n",
      "|Maria|00000000001|01/04/2022|             523.86|    0.0|    0.0|             0.0|             523.86|\n",
      "|Maria|00000000001|03/04/2022|             523.86| 157.62|    0.0|          157.62|  681.4799951171875|\n",
      "|Maria|00000000001|03/04/2022|  681.4799951171875| 518.89|    0.0|          518.89| 1200.3700097656251|\n",
      "|Maria|00000000001|03/04/2022| 1200.3700097656251| 214.81|    0.0|          214.81| 1415.1800073242189|\n",
      "| José|00000000002|01/04/2022|             917.78|    0.0|    0.0|             0.0|             917.78|\n",
      "| José|00000000002|03/04/2022|             917.78|   56.8|    0.0|            56.8|  974.5799992370605|\n",
      "| José|00000000002|03/04/2022|  974.5799992370605| 492.13|    0.0|          492.13|  1466.710004119873|\n",
      "| João|00000000003|01/04/2022|             321.84|    0.0|    0.0|             0.0|             321.84|\n",
      "| João|00000000003|03/04/2022|             321.84|    0.0|-106.57|         -106.57| 215.27000030517576|\n",
      "| João|00000000003|03/04/2022| 215.27000030517576|    0.0|-406.67|         -406.67|-191.40001312255862|\n",
      "| João|00000000003|03/04/2022|-191.40001312255862| 203.97|    0.0|          203.97| 12.569988098144506|\n",
      "|Paulo|00000000004|01/04/2022|             271.51|    0.0|    0.0|             0.0|             271.51|\n",
      "|Paulo|00000000004|02/04/2022|             271.51|    0.0| -32.56|          -32.56| 238.94999862670898|\n",
      "|Paulo|00000000004|02/04/2022| 238.94999862670898| 274.18|    0.0|          274.18|  513.1299913024902|\n",
      "|Pedro|00000000005|01/04/2022|             225.55|    0.0|    0.0|             0.0|             225.55|\n",
      "|Pedro|00000000005|02/04/2022|             225.55|    0.0|-169.51|         -169.51| 56.040005493164074|\n",
      "|Pedro|00000000005|02/04/2022| 56.040005493164074|    0.0|-108.42|         -108.42| -52.37999267578124|\n",
      "|Pedro|00000000005|02/04/2022| -52.37999267578124|  134.8|    0.0|           134.8|  82.42001037597657|\n",
      "|Pedro|00000000005|02/04/2022|  82.42001037597657| 230.76|    0.0|          230.76|  313.1800048828125|\n",
      "|Pedro|00000000005|02/04/2022|  313.1800048828125| 169.51|    0.0|          169.51| 482.68999938964845|\n",
      "+-----+-----------+----------+-------------------+-------+-------+----------------+-------------------+\n",
      "only showing top 20 rows\n",
      "\n"
     ]
    },
    {
     "name": "stderr",
     "output_type": "stream",
     "text": [
      "                                                                                \r"
     ]
    }
   ],
   "source": [
    "final_balance.show()"
   ]
  },
  {
   "cell_type": "markdown",
   "id": "a3cecd9b",
   "metadata": {},
   "source": [
    "## Resultado consolidado"
   ]
  },
  {
   "cell_type": "code",
   "execution_count": 24,
   "id": "a2841641",
   "metadata": {},
   "outputs": [],
   "source": [
    "consolidated_balance = final_balance.groupBy('CPF').agg(\n",
    "    first('Saldo_Inicial').alias('Saldo_Inicial'),\n",
    "    sum('Movimentacao_dia').alias('Total_Movimentacao_dia'),\n",
    "    max('Data').alias('Last_Transaction_Date')\n",
    ").withColumn(\n",
    "    'Real_Balance', col('Saldo_Inicial') + col('Total_Movimentacao_dia')\n",
    ")"
   ]
  },
  {
   "cell_type": "code",
   "execution_count": 25,
   "id": "27af06f8",
   "metadata": {},
   "outputs": [
    {
     "name": "stdout",
     "output_type": "stream",
     "text": [
      "+-----------+-----------------+----------------------+---------------------+------------------+\n",
      "|        CPF|    Saldo_Inicial|Total_Movimentacao_dia|Last_Transaction_Date|      Real_Balance|\n",
      "+-----------+-----------------+----------------------+---------------------+------------------+\n",
      "|00000000001|           523.86|     891.3200073242188|           03/04/2022|1415.1800073242189|\n",
      "|00000000002|           917.78|      548.930004119873|           03/04/2022| 1466.710004119873|\n",
      "|00000000003|           321.84|   -309.27001190185547|           03/04/2022|12.569988098144506|\n",
      "|00000000004|           271.51|    241.61999130249023|           02/04/2022| 513.1299913024902|\n",
      "|00000000005|           225.55|    257.13999938964844|           02/04/2022|482.68999938964845|\n",
      "|00000000006|            875.5|      444.989990234375|           02/04/2022| 1320.489990234375|\n",
      "|00000000007|           365.88|    426.53001403808594|           02/04/2022| 792.4100140380859|\n",
      "|00000000008|           832.63|    190.36000061035156|           03/04/2022|1022.9900006103516|\n",
      "|00000000009|           221.12|                   0.0|           01/04/2022|            221.12|\n",
      "|00000000010|600.3499755859375|     325.6099739074707|           03/04/2022| 925.9599494934082|\n",
      "|00000000011|768.3599853515625|     768.3599853515625|           03/04/2022| 1536.719970703125|\n",
      "+-----------+-----------------+----------------------+---------------------+------------------+\n",
      "\n"
     ]
    }
   ],
   "source": [
    "consolidated_balance.show()"
   ]
  },
  {
   "cell_type": "code",
   "execution_count": 22,
   "id": "7fc92d8e",
   "metadata": {},
   "outputs": [],
   "source": [
    "final_balance.write.csv(\"data/final_balance.csv\", header=True, mode=\"overwrite\")"
   ]
  },
  {
   "cell_type": "code",
   "execution_count": 26,
   "id": "463a1884",
   "metadata": {},
   "outputs": [],
   "source": [
    "consolidated_balance.write.csv(\"data/consolidated_balance.csv\", header=True, mode=\"overwrite\")"
   ]
  },
  {
   "cell_type": "code",
   "execution_count": 9,
   "id": "f1bd46ec",
   "metadata": {},
   "outputs": [],
   "source": [
    "spark.stop()"
   ]
  },
  {
   "cell_type": "code",
   "execution_count": null,
   "id": "29c9d732",
   "metadata": {},
   "outputs": [],
   "source": []
  }
 ],
 "metadata": {
  "kernelspec": {
   "display_name": "Python 3",
   "language": "python",
   "name": "python3"
  },
  "language_info": {
   "codemirror_mode": {
    "name": "ipython",
    "version": 3
   },
   "file_extension": ".py",
   "mimetype": "text/x-python",
   "name": "python",
   "nbconvert_exporter": "python",
   "pygments_lexer": "ipython3",
   "version": "3.11.9"
  }
 },
 "nbformat": 4,
 "nbformat_minor": 5
}
